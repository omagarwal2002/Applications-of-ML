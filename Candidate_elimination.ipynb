{
  "cells": [
    {
      "attachments": {},
      "cell_type": "markdown",
      "metadata": {},
      "source": [
        "candidate elimination"
      ]
    },
    {
      "cell_type": "code",
      "execution_count": 1,
      "metadata": {
        "id": "EMirOQdF6KN1"
      },
      "outputs": [],
      "source": [
        "import pandas as pd\n",
        "import numpy as np"
      ]
    },
    {
      "cell_type": "code",
      "execution_count": 2,
      "metadata": {
        "id": "dELptTyt6ViP"
      },
      "outputs": [],
      "source": [
        "df = pd.read_csv(r'F:\\VS Code\\applications of ml\\tennis.xls')"
      ]
    },
    {
      "cell_type": "code",
      "execution_count": 3,
      "metadata": {
        "id": "xXzIazR06jcq"
      },
      "outputs": [],
      "source": [
        "df = df.head()\n",
        "target = df['play'].copy()\n",
        "concepts = df.drop('play',axis=1)"
      ]
    },
    {
      "cell_type": "code",
      "execution_count": 4,
      "metadata": {
        "colab": {
          "base_uri": "https://localhost:8080/",
          "height": 206
        },
        "id": "mPSnd76kAIwU",
        "outputId": "b5c4da4c-8578-482a-ed8b-63a18a7a6dc6"
      },
      "outputs": [
        {
          "data": {
            "text/html": [
              "<div>\n",
              "<style scoped>\n",
              "    .dataframe tbody tr th:only-of-type {\n",
              "        vertical-align: middle;\n",
              "    }\n",
              "\n",
              "    .dataframe tbody tr th {\n",
              "        vertical-align: top;\n",
              "    }\n",
              "\n",
              "    .dataframe thead th {\n",
              "        text-align: right;\n",
              "    }\n",
              "</style>\n",
              "<table border=\"1\" class=\"dataframe\">\n",
              "  <thead>\n",
              "    <tr style=\"text-align: right;\">\n",
              "      <th></th>\n",
              "      <th>outlook</th>\n",
              "      <th>temp</th>\n",
              "      <th>humidity</th>\n",
              "      <th>wind</th>\n",
              "    </tr>\n",
              "  </thead>\n",
              "  <tbody>\n",
              "    <tr>\n",
              "      <th>0</th>\n",
              "      <td>Sunny</td>\n",
              "      <td>Hot</td>\n",
              "      <td>High</td>\n",
              "      <td>Weak</td>\n",
              "    </tr>\n",
              "    <tr>\n",
              "      <th>1</th>\n",
              "      <td>Sunny</td>\n",
              "      <td>Hot</td>\n",
              "      <td>High</td>\n",
              "      <td>Strong</td>\n",
              "    </tr>\n",
              "    <tr>\n",
              "      <th>2</th>\n",
              "      <td>Overcast</td>\n",
              "      <td>Hot</td>\n",
              "      <td>High</td>\n",
              "      <td>Weak</td>\n",
              "    </tr>\n",
              "    <tr>\n",
              "      <th>3</th>\n",
              "      <td>Rain</td>\n",
              "      <td>Mild</td>\n",
              "      <td>High</td>\n",
              "      <td>Weak</td>\n",
              "    </tr>\n",
              "    <tr>\n",
              "      <th>4</th>\n",
              "      <td>Rain</td>\n",
              "      <td>Cool</td>\n",
              "      <td>Normal</td>\n",
              "      <td>Weak</td>\n",
              "    </tr>\n",
              "  </tbody>\n",
              "</table>\n",
              "</div>"
            ],
            "text/plain": [
              "    outlook  temp humidity    wind\n",
              "0     Sunny   Hot     High    Weak\n",
              "1     Sunny   Hot     High  Strong\n",
              "2  Overcast   Hot     High    Weak\n",
              "3      Rain  Mild     High    Weak\n",
              "4      Rain  Cool   Normal    Weak"
            ]
          },
          "execution_count": 4,
          "metadata": {},
          "output_type": "execute_result"
        }
      ],
      "source": [
        "concepts"
      ]
    },
    {
      "cell_type": "code",
      "execution_count": 5,
      "metadata": {
        "colab": {
          "base_uri": "https://localhost:8080/"
        },
        "id": "QzDhiDHV6meY",
        "outputId": "535c2ff9-be22-4ce6-d703-243015652de6"
      },
      "outputs": [
        {
          "name": "stdout",
          "output_type": "stream",
          "text": [
            "Initialization of specific_h and general_h\n",
            "specific_h:  ['Sunny' 'Hot' 'High' 'Weak']\n",
            "general_h:  [['?', '?', '?', '?'], ['?', '?', '?', '?'], ['?', '?', '?', '?'], ['?', '?', '?', '?']]\n",
            "concepts:  [['Sunny' 'Hot' 'High' 'Weak']\n",
            " ['Sunny' 'Hot' 'High' 'Strong']\n",
            " ['Overcast' 'Hot' 'High' 'Weak']\n",
            " ['Rain' 'Mild' 'High' 'Weak']\n",
            " ['Rain' 'Cool' 'Normal' 'Weak']]\n",
            "\n",
            "Steps of Candidate Elimination Algorithm:  5\n",
            "Specific_h:  5\n",
            "['Sunny' 'Hot' 'High' 'Weak'] \n",
            "\n",
            "general_h : 5\n",
            "[['?', '?', '?', '?'], ['?', '?', '?', '?'], ['?', '?', '?', '?'], ['?', '?', '?', '?']]\n",
            "\n",
            "Indices []\n",
            "\n",
            "Final Specific_h:\n",
            "['Sunny' 'Hot' 'High' 'Weak']\n",
            "Final General_h:\n",
            "[['?', '?', '?', '?'], ['?', '?', '?', '?'], ['?', '?', '?', '?'], ['?', '?', '?', '?']]\n"
          ]
        }
      ],
      "source": [
        "def learn(concepts, target):\n",
        "\n",
        "    specific_h = concepts[0].copy()\n",
        "\n",
        "    print(\"Initialization of specific_h and general_h\")\n",
        "\n",
        "    print(\"specific_h: \",specific_h)\n",
        "\n",
        "    general_h = [[\"?\" for i in range(len(specific_h))] for i in range(len(specific_h))]\n",
        "\n",
        "    print(\"general_h: \",general_h)\n",
        "\n",
        "    print(\"concepts: \",concepts)\n",
        "\n",
        "    for i, h in enumerate(concepts):\n",
        "\n",
        "        if target[i] == \"yes\":\n",
        "\n",
        "            for x in range(len(specific_h)):\n",
        "\n",
        "                #print(\"h[x]\",h[x])\n",
        "\n",
        "                if h[x] != specific_h[x]:\n",
        "\n",
        "                    specific_h[x] = '?'\n",
        "\n",
        "                    general_h[x][x] = '?'\n",
        "\n",
        "        if target[i] == \"no\":\n",
        "\n",
        "            for x in range(len(specific_h)):\n",
        "\n",
        "                if h[x] != specific_h[x]:\n",
        "\n",
        "                    general_h[x][x] = specific_h[x]\n",
        "\n",
        "                else:\n",
        "\n",
        "                    general_h[x][x] = '?'\n",
        "\n",
        "    print(\"\\nSteps of Candidate Elimination Algorithm: \",i+1)\n",
        "\n",
        "    print(\"Specific_h: \",i+1)\n",
        "\n",
        "    print(specific_h,\"\\n\")\n",
        "\n",
        "    print(\"general_h :\", i+1)\n",
        "\n",
        "    print(general_h)\n",
        "\n",
        "    indices = [i for i, val in enumerate(general_h) if val == ['?', '?', '?', '?', '?', '?']]\n",
        "\n",
        "    print(\"\\nIndices\",indices)\n",
        "\n",
        "    for i in indices:\n",
        "\n",
        "        general_h.remove(['?', '?', '?', '?', '?', '?'])\n",
        "\n",
        "    return specific_h, general_h\n",
        "\n",
        "s_final,g_final = learn(concepts.values, target.values)\n",
        "\n",
        "print(\"\\nFinal Specific_h:\", s_final, sep=\"\\n\")\n",
        "\n",
        "print(\"Final General_h:\", g_final, sep=\"\\n\")"
      ]
    },
    {
      "cell_type": "code",
      "execution_count": null,
      "metadata": {},
      "outputs": [],
      "source": []
    }
  ],
  "metadata": {
    "colab": {
      "provenance": []
    },
    "kernelspec": {
      "display_name": "base",
      "language": "python",
      "name": "python3"
    },
    "language_info": {
      "codemirror_mode": {
        "name": "ipython",
        "version": 3
      },
      "file_extension": ".py",
      "mimetype": "text/x-python",
      "name": "python",
      "nbconvert_exporter": "python",
      "pygments_lexer": "ipython3",
      "version": "3.9.12"
    },
    "vscode": {
      "interpreter": {
        "hash": "d332573bd6b597e759624c241b6d927c486e6885b295733baefb4ea80ba7e373"
      }
    }
  },
  "nbformat": 4,
  "nbformat_minor": 0
}
