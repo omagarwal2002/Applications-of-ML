{
  "cells": [
    {
      "attachments": {},
      "cell_type": "markdown",
      "metadata": {},
      "source": [
        "Decision tree based on ID3 algo"
      ]
    },
    {
      "cell_type": "code",
      "execution_count": 2,
      "metadata": {
        "id": "ppTWHK86PJ5A"
      },
      "outputs": [],
      "source": [
        "import numpy as np\n",
        "from collections import Counter\n",
        "\n",
        "def entropy(y):\n",
        "    _, counts = np.unique(y, return_counts=True)\n",
        "    p = counts / len(y)\n",
        "    return -np.sum(p * np.log2(p))\n"
      ]
    },
    {
      "cell_type": "code",
      "execution_count": 3,
      "metadata": {
        "id": "_0G77cW6PR6n"
      },
      "outputs": [],
      "source": [
        "def information_gain(X, y, feature):\n",
        "    values, counts = np.unique(X[:, feature], return_counts=True)\n",
        "    p = counts / np.sum(counts)\n",
        "    entropies = [entropy(y[X[:, feature] == value]) for value in values]\n",
        "    return entropy(y) - np.sum(p * entropies)\n"
      ]
    },
    {
      "cell_type": "code",
      "execution_count": 4,
      "metadata": {
        "id": "KwM8Dfe2P8ZK"
      },
      "outputs": [],
      "source": [
        "def id3(X, y, features):\n",
        "    if len(np.unique(y)) == 1:\n",
        "        return y[0]\n",
        "    if len(features) == 0:\n",
        "        return Counter(y).most_common(1)[0][0]\n",
        "    \n",
        "    gains = [information_gain(X, y, feature) for feature in features]\n",
        "    best_feature = features[np.argmax(gains)]\n",
        "    \n",
        "    tree = {best_feature: {}}\n",
        "    remaining_features = [f for f in features if f != best_feature]\n",
        "    \n",
        "    for value in np.unique(X[:, best_feature]):\n",
        "        mask = (X[:, best_feature] == value)\n",
        "        subtree = id3(X[mask], y[mask], remaining_features)\n",
        "        tree[best_feature][value] = subtree\n",
        "    \n",
        "    return tree\n"
      ]
    },
    {
      "cell_type": "code",
      "execution_count": 5,
      "metadata": {
        "colab": {
          "base_uri": "https://localhost:8080/"
        },
        "id": "vXQs8q5IQSQV",
        "outputId": "2593fa5b-d757-4c11-cb52-a03ed978169c"
      },
      "outputs": [
        {
          "name": "stdout",
          "output_type": "stream",
          "text": [
            "{0: {0: 0, 1: 1}}\n"
          ]
        }
      ],
      "source": [
        "X = np.array([[0, 0, 0],\n",
        "              [0, 0, 1],\n",
        "              [1, 0, 1],\n",
        "              [1, 1, 0],\n",
        "              [0, 0, 0],\n",
        "              [0, 1, 0],\n",
        "              [1, 0, 0],\n",
        "              [1, 1, 1]])\n",
        "y = np.array([0, 0, 1, 1, 0, 0, 1, 1])\n",
        "features = [0, 1, 2]\n",
        "tree = id3(X, y, features)\n",
        "print(tree)"
      ]
    },
    {
      "cell_type": "code",
      "execution_count": 6,
      "metadata": {
        "id": "bxAMYOyLQVTG"
      },
      "outputs": [],
      "source": []
    }
  ],
  "metadata": {
    "colab": {
      "provenance": [],
      "toc_visible": true
    },
    "kernelspec": {
      "display_name": "base",
      "language": "python",
      "name": "python3"
    },
    "language_info": {
      "codemirror_mode": {
        "name": "ipython",
        "version": 3
      },
      "file_extension": ".py",
      "mimetype": "text/x-python",
      "name": "python",
      "nbconvert_exporter": "python",
      "pygments_lexer": "ipython3",
      "version": "3.9.12"
    },
    "vscode": {
      "interpreter": {
        "hash": "d332573bd6b597e759624c241b6d927c486e6885b295733baefb4ea80ba7e373"
      }
    }
  },
  "nbformat": 4,
  "nbformat_minor": 0
}
