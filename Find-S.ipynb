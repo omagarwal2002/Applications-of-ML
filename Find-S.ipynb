{
  "cells": [
    {
      "attachments": {},
      "cell_type": "markdown",
      "metadata": {},
      "source": [
        "find-S"
      ]
    },
    {
      "cell_type": "code",
      "execution_count": 1,
      "metadata": {
        "id": "DpyKtXHFB_ok"
      },
      "outputs": [],
      "source": [
        "import pandas as pd"
      ]
    },
    {
      "cell_type": "code",
      "execution_count": 6,
      "metadata": {
        "id": "kf4K3Ba8CRmm"
      },
      "outputs": [],
      "source": [
        "data = pd.read_csv('F:/VS Code/applications of ml/tennis.xls')"
      ]
    },
    {
      "cell_type": "code",
      "execution_count": 7,
      "metadata": {
        "id": "0gex76wzCUDK"
      },
      "outputs": [],
      "source": [
        "itr, feat = data.shape"
      ]
    },
    {
      "cell_type": "code",
      "execution_count": 8,
      "metadata": {
        "id": "1zkiioIZCVz_"
      },
      "outputs": [],
      "source": [
        "feat = feat-1"
      ]
    },
    {
      "cell_type": "code",
      "execution_count": 9,
      "metadata": {
        "colab": {
          "base_uri": "https://localhost:8080/"
        },
        "id": "C7tTUwOSCctC",
        "outputId": "be13ac2d-3c98-4754-d2d8-9e49621e69db"
      },
      "outputs": [
        {
          "data": {
            "text/plain": [
              "[0, 0, 0, 0]"
            ]
          },
          "execution_count": 9,
          "metadata": {},
          "output_type": "execute_result"
        }
      ],
      "source": [
        "hyp = list()\n",
        "for i in range(0,feat):\n",
        "  hyp.append(0)\n",
        "hyp"
      ]
    },
    {
      "cell_type": "code",
      "execution_count": 10,
      "metadata": {
        "id": "rVY7bNznCqh_"
      },
      "outputs": [],
      "source": [
        "def allzero(hypo):\n",
        "  for val in hypo:\n",
        "    if val!=0:\n",
        "      return False\n",
        "  return True"
      ]
    },
    {
      "cell_type": "code",
      "execution_count": 11,
      "metadata": {
        "colab": {
          "base_uri": "https://localhost:8080/"
        },
        "id": "bpd3RiVaC0Ay",
        "outputId": "f6f9c7c0-c93f-42b0-8f92-12af7617bd3a"
      },
      "outputs": [
        {
          "name": "stdout",
          "output_type": "stream",
          "text": [
            "[0, 0, 0, 0]\n"
          ]
        }
      ],
      "source": [
        "print(hyp)"
      ]
    },
    {
      "cell_type": "code",
      "execution_count": 12,
      "metadata": {
        "id": "GqHudRe7EXMR"
      },
      "outputs": [],
      "source": [
        "def checkSimilar(hypo,d,l):\n",
        "  for x in range(0,d.shape[1]-1):\n",
        "    if hypo[x] != d.iloc[l][x]:\n",
        "      hypo[x] = '?'\n",
        "  return hypo"
      ]
    },
    {
      "cell_type": "code",
      "execution_count": 13,
      "metadata": {
        "colab": {
          "base_uri": "https://localhost:8080/"
        },
        "id": "_pDjE59QDJG-",
        "outputId": "6c089909-1b39-4c50-ac0b-ff8d79201601"
      },
      "outputs": [
        {
          "name": "stdout",
          "output_type": "stream",
          "text": [
            "[0, 0, 0, 0]\n",
            "[0, 0, 0, 0]\n",
            "[0, 0, 0, 0]\n",
            "['Overcast', 'Hot', 'High', 'Weak']\n",
            "['?', '?', 'High', 'Weak']\n",
            "['?', '?', '?', 'Weak']\n",
            "['?', '?', '?', 'Weak']\n",
            "['?', '?', '?', '?']\n",
            "['?', '?', '?', '?']\n",
            "['?', '?', '?', '?']\n",
            "['?', '?', '?', '?']\n",
            "['?', '?', '?', '?']\n",
            "['?', '?', '?', '?']\n",
            "['?', '?', '?', '?']\n"
          ]
        }
      ],
      "source": [
        "for i in range(len(data)):\n",
        "  print(hyp)\n",
        "  if allzero(hyp)==True:\n",
        "    if data.iloc[i][-1] == 'Yes' or data.iloc[i][-1] == 1:\n",
        "      hyp[0:] = data.iloc[i][:-1]\n",
        "  elif allzero(hyp)==False:\n",
        "    if data.iloc[i][-1] == 'Yes' or data.iloc[i][-1] == 1:\n",
        "      hyp = checkSimilar(hyp,data,i)\n",
        "  "
      ]
    },
    {
      "cell_type": "markdown",
      "metadata": {
        "id": "Zmh0PiNvGIo5"
      },
      "source": [
        "-------------------------------------------------------------------------"
      ]
    },
    {
      "cell_type": "code",
      "execution_count": 14,
      "metadata": {
        "id": "PfY2Huz3E3m6"
      },
      "outputs": [],
      "source": [
        "df = pd.read_csv(r'F:\\VS Code\\applications of ml\\ws.csv')"
      ]
    },
    {
      "cell_type": "code",
      "execution_count": 15,
      "metadata": {
        "colab": {
          "base_uri": "https://localhost:8080/"
        },
        "id": "g_jj5KETF59Z",
        "outputId": "d955f6d7-b783-4fb3-d413-27735abd313f"
      },
      "outputs": [
        {
          "data": {
            "text/plain": [
              "[0, 0, 0, 0, 0, 0]"
            ]
          },
          "execution_count": 15,
          "metadata": {},
          "output_type": "execute_result"
        }
      ],
      "source": [
        "h = list()\n",
        "for i in range(0,df.shape[1]-1):\n",
        "  h.append(0)\n",
        "h"
      ]
    },
    {
      "cell_type": "code",
      "execution_count": 16,
      "metadata": {
        "colab": {
          "base_uri": "https://localhost:8080/"
        },
        "id": "8-kD-2MFGC3D",
        "outputId": "ebd2fdce-2607-4193-8619-af1a84e2b489"
      },
      "outputs": [
        {
          "name": "stdout",
          "output_type": "stream",
          "text": [
            "[0, 0, 0, 0, 0, 0]\n",
            "['Sunny', 'Warm', 'High', 'Strong', 'Warm', 'Same']\n",
            "['Sunny', 'Warm', 'High', 'Strong', 'Warm', 'Same']\n",
            "['Sunny', 'Warm', 'High', 'Strong', '?', '?']\n"
          ]
        }
      ],
      "source": [
        "print(h)\n",
        "for j in range(len(df)):\n",
        "  if allzero(h)==True:\n",
        "    if df.iloc[j][-1] == 'Yes' or df.iloc[j][-1] == 1:\n",
        "      h[0:] = df.iloc[j][:-1]\n",
        "  elif allzero(h)==False:\n",
        "    if df.iloc[j][-1] == 'Yes' or df.iloc[j][-1] == 1:\n",
        "      h = checkSimilar(h,df,j)\n",
        "  print(h)"
      ]
    },
    {
      "cell_type": "code",
      "execution_count": null,
      "metadata": {
        "id": "gzd_TXgrHh6r"
      },
      "outputs": [],
      "source": []
    }
  ],
  "metadata": {
    "colab": {
      "provenance": []
    },
    "kernelspec": {
      "display_name": "base",
      "language": "python",
      "name": "python3"
    },
    "language_info": {
      "codemirror_mode": {
        "name": "ipython",
        "version": 3
      },
      "file_extension": ".py",
      "mimetype": "text/x-python",
      "name": "python",
      "nbconvert_exporter": "python",
      "pygments_lexer": "ipython3",
      "version": "3.9.12"
    },
    "vscode": {
      "interpreter": {
        "hash": "d332573bd6b597e759624c241b6d927c486e6885b295733baefb4ea80ba7e373"
      }
    }
  },
  "nbformat": 4,
  "nbformat_minor": 0
}
