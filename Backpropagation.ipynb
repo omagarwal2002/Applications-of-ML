{
 "cells": [
  {
   "attachments": {},
   "cell_type": "markdown",
   "metadata": {},
   "source": [
    "backpropagation algo"
   ]
  },
  {
   "cell_type": "code",
   "execution_count": 2,
   "metadata": {},
   "outputs": [
    {
     "name": "stdout",
     "output_type": "stream",
     "text": [
      "[[0.5015279 ]\n",
      " [0.50855546]\n",
      " [0.49636968]\n",
      " [0.50129512]]\n"
     ]
    }
   ],
   "source": [
    "import numpy as np\n",
    "\n",
    "def sigmoid(x):\n",
    "    return 1 / (1 + np.exp(-x))\n",
    "\n",
    "def sigmoid_derivative(x):\n",
    "    return x * (1 - x)\n",
    "\n",
    "class NeuralNetwork:\n",
    "    def __init__(self, x, y):\n",
    "        self.input = x\n",
    "        self.weights1 = np.random.rand(self.input.shape[1], 4)\n",
    "        self.weights2 = np.random.rand(4, 1)\n",
    "        self.y = y\n",
    "        self.output = np.zeros(self.y.shape)\n",
    "\n",
    "    def feedforward(self):\n",
    "        self.layer1 = sigmoid(np.dot(self.input, self.weights1))\n",
    "        self.output = sigmoid(np.dot(self.layer1, self.weights2))\n",
    "\n",
    "    def backprop(self):\n",
    "        # Calculate the error\n",
    "        error = self.y - self.output\n",
    "\n",
    "        # Calculate the derivative of the output layer\n",
    "        d_output = error * sigmoid_derivative(self.output)\n",
    "\n",
    "        # Calculate the error in the hidden layer\n",
    "        error_hidden_layer = d_output.dot(self.weights2.T)\n",
    "\n",
    "        # Calculate the derivative of the hidden layer\n",
    "        d_layer1 = error_hidden_layer * sigmoid_derivative(self.layer1)\n",
    "\n",
    "        # Update the weights\n",
    "        self.weights2 += self.layer1.T.dot(d_output) * 0.1\n",
    "        self.weights1 += self.input.T.dot(d_layer1) * 0.1\n",
    "\n",
    "if __name__ == \"__main__\":\n",
    "    X = np.array([[0, 0, 1], [0, 1, 1], [1, 0, 1], [1, 1, 1]])\n",
    "    y = np.array([[0],[1],[1],[0]])\n",
    "    nn = NeuralNetwork(X, y)\n",
    "\n",
    "    for i in range(1500):\n",
    "        nn.feedforward()\n",
    "        nn.backprop()\n",
    "\n",
    "    print(nn.output)\n"
   ]
  },
  {
   "cell_type": "code",
   "execution_count": null,
   "metadata": {},
   "outputs": [],
   "source": []
  }
 ],
 "metadata": {
  "kernelspec": {
   "display_name": "base",
   "language": "python",
   "name": "python3"
  },
  "language_info": {
   "codemirror_mode": {
    "name": "ipython",
    "version": 3
   },
   "file_extension": ".py",
   "mimetype": "text/x-python",
   "name": "python",
   "nbconvert_exporter": "python",
   "pygments_lexer": "ipython3",
   "version": "3.9.12"
  },
  "orig_nbformat": 4,
  "vscode": {
   "interpreter": {
    "hash": "d332573bd6b597e759624c241b6d927c486e6885b295733baefb4ea80ba7e373"
   }
  }
 },
 "nbformat": 4,
 "nbformat_minor": 2
}
